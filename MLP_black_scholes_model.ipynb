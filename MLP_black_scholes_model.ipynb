{
  "nbformat": 4,
  "nbformat_minor": 0,
  "metadata": {
    "colab": {
      "name": "MLP_black_scholes_model.ipynb",
      "private_outputs": true,
      "provenance": [],
      "collapsed_sections": []
    },
    "kernelspec": {
      "name": "python3",
      "display_name": "Python 3"
    },
    "language_info": {
      "name": "python"
    },
    "accelerator": "GPU"
  },
  "cells": [
    {
      "cell_type": "code",
      "metadata": {
        "id": "qFwJLPbJoyeT"
      },
      "source": [
        "import pandas as pd\n",
        "import numpy as np\n",
        "import matplotlib.pyplot as plt\n",
        "%matplotlib inline\n",
        "from keras.models import Sequential\n",
        "from keras.layers import Dense, Activation, LeakyReLU\n",
        "from keras import backend\n",
        "from keras.callbacks import TensorBoard\n",
        "from keras.optimizers import Adam\n",
        "import pandas as pd\n",
        "import numpy as np\n",
        "from sklearn.model_selection import train_test_split\n",
        "from sklearn.linear_model import LinearRegression\n",
        "from sklearn.metrics import mean_squared_error, mean_absolute_error\n",
        "import seaborn as sns"
      ],
      "execution_count": null,
      "outputs": []
    },
    {
      "cell_type": "code",
      "metadata": {
        "id": "L4wwbK0hYzt8"
      },
      "source": [
        "from tensorflow import keras"
      ],
      "execution_count": null,
      "outputs": []
    },
    {
      "cell_type": "code",
      "metadata": {
        "id": "KQWn6gikun0L"
      },
      "source": [
        "call_df=pd.read_csv('/content/drive/MyDrive/black_scholes_option_pricing/complete_data/call_black_scholes.csv')\n",
        "put_df=pd.read_csv('/content/drive/MyDrive/black_scholes_option_pricing/complete_data/put_black_scholes.csv')"
      ],
      "execution_count": null,
      "outputs": []
    },
    {
      "cell_type": "code",
      "metadata": {
        "id": "lSO2dbh_XEx9"
      },
      "source": [
        "from google.colab import drive\n",
        "drive.mount('/content/drive')"
      ],
      "execution_count": null,
      "outputs": []
    },
    {
      "cell_type": "code",
      "metadata": {
        "id": "6cGC3xBhXOhY"
      },
      "source": [
        "#WITH SVOL\n",
        "call_df=pd.read_csv('/content/drive/MyDrive/black_scholes_option_pricing/Call_with_svol.csv')\n",
        "put_df=pd.read_csv('/content/drive/MyDrive/black_scholes_option_pricing/Put_with_svol.csv')"
      ],
      "execution_count": null,
      "outputs": []
    },
    {
      "cell_type": "code",
      "metadata": {
        "id": "zrvZP5zocR_u"
      },
      "source": [
        "call_df=call_df.iloc[:,1:]\n",
        "put_df=put_df.iloc[:,1:]"
      ],
      "execution_count": null,
      "outputs": []
    },
    {
      "cell_type": "code",
      "metadata": {
        "id": "PBkboC1UvAID"
      },
      "source": [
        "call_df=call_df.set_index(['Date'])\n",
        "put_df=put_df.set_index(['Date'])"
      ],
      "execution_count": null,
      "outputs": []
    },
    {
      "cell_type": "code",
      "metadata": {
        "id": "UWfmnCWvXl63"
      },
      "source": [
        ""
      ],
      "execution_count": null,
      "outputs": []
    },
    {
      "cell_type": "code",
      "metadata": {
        "id": "sK4JCBKk31II"
      },
      "source": [
        "call_df=call_df[call_df['Close']>1]"
      ],
      "execution_count": null,
      "outputs": []
    },
    {
      "cell_type": "code",
      "metadata": {
        "id": "PExw4-RFvcp8"
      },
      "source": [
        "Deep_itm=call_df[call_df['Adj Close']-call_df['Strike Price']>3000]\n",
        "itm=call_df[(call_df['Adj Close']-call_df['Strike Price']>0) & (call_df['Adj Close']-call_df['Strike Price']<3000)]\n",
        "otm=call_df[call_df['Adj Close']<call_df['Strike Price']]"
      ],
      "execution_count": null,
      "outputs": []
    },
    {
      "cell_type": "code",
      "metadata": {
        "id": "yJ7ICZtUve68"
      },
      "source": [
        "def linear_regression(df):\n",
        "  x=np.array(df['Close']).reshape(-1,1)\n",
        "  y=np.array(df['bs_call']).reshape(-1,1)\n",
        "  reg=LinearRegression().fit(x,y)\n",
        "  mse= mean_absolute_error(x,y)\n",
        "  return reg.score(x,y),ms"
      ],
      "execution_count": null,
      "outputs": []
    },
    {
      "cell_type": "code",
      "metadata": {
        "id": "3_m_IPED2ldN"
      },
      "source": [
        "def regression(df):\n",
        "  sns.scatterplot(x=df['Close'],y=df['bs_call'],hue=df['Expiration'])"
      ],
      "execution_count": null,
      "outputs": []
    },
    {
      "cell_type": "code",
      "metadata": {
        "id": "aud0aLsuu6_5"
      },
      "source": [
        "call_df.head()"
      ],
      "execution_count": null,
      "outputs": []
    },
    {
      "cell_type": "code",
      "metadata": {
        "id": "hRqmhc7ZdHKE"
      },
      "source": [
        "call_df[\"svol\"]*=np.sqrt(252)"
      ],
      "execution_count": null,
      "outputs": []
    },
    {
      "cell_type": "code",
      "metadata": {
        "id": "1mf6uoByO9E5"
      },
      "source": [
        "def split_data(df):\n",
        "  call_X_train, call_X_test, call_y_train, call_y_test = train_test_split(df[['Strike Price','Expiration','Adj Close','Price','volatility']],df['Close'],test_size=0.3,random_state=42)\n",
        "  return call_X_train, call_X_test, call_y_train, call_y_test"
      ],
      "execution_count": null,
      "outputs": []
    },
    {
      "cell_type": "code",
      "metadata": {
        "id": "UkKb49i4i0kT"
      },
      "source": [
        "def split_data_bs(df):\n",
        "  call_X_train, call_X_test, call_y_train, call_y_test = train_test_split(df[['Strike Price','Expiration','Adj Close','Price']],df['bs_call'],test_size=0.3,random_state=42)\n",
        "  return call_X_train, call_X_test, call_y_train, call_y_test"
      ],
      "execution_count": null,
      "outputs": []
    },
    {
      "cell_type": "code",
      "metadata": {
        "id": "kBZfWknev7xX"
      },
      "source": [
        "call_X_train, call_X_test, call_y_train, call_y_test=split_data(call_df)"
      ],
      "execution_count": null,
      "outputs": []
    },
    {
      "cell_type": "code",
      "metadata": {
        "id": "pjf2k1Khi4d8"
      },
      "source": [
        "call_X_train_bs, call_X_test_bs, call_y_train_bs, call_y_test_bs=split_data_bs(call_df)\n"
      ],
      "execution_count": null,
      "outputs": []
    },
    {
      "cell_type": "code",
      "metadata": {
        "id": "q1sMTDlOy1DH"
      },
      "source": [
        "n_units = 400\n",
        "layers = 5\n",
        "n_batch = 100\n",
        "n_epochs = 20"
      ],
      "execution_count": null,
      "outputs": []
    },
    {
      "cell_type": "code",
      "metadata": {
        "id": "WrtWSfeUyfQB"
      },
      "source": [
        "model = Sequential()\n",
        "model.add(Dense(n_units, input_dim=call_X_train.shape[1]))\n",
        "model.add(LeakyReLU())\n",
        "\n",
        "for _ in range(layers - 1):\n",
        "    model.add(Dense(n_units))\n",
        "    model.add(LeakyReLU())\n",
        "\n",
        "model.add(Dense(1, activation='relu'))\n",
        "opt = keras.optimizers.Adam(learning_rate=1e-4)\n",
        "model.compile(loss='mse', optimizer=opt)"
      ],
      "execution_count": null,
      "outputs": []
    },
    {
      "cell_type": "code",
      "metadata": {
        "id": "pQ6lS9zCzpp3"
      },
      "source": [
        "model.summary()"
      ],
      "execution_count": null,
      "outputs": []
    },
    {
      "cell_type": "code",
      "metadata": {
        "id": "rD7A-AMpzs5q"
      },
      "source": [
        "history = model.fit(call_X_train, call_y_train, \n",
        "                    batch_size=n_batch, epochs=n_epochs, \n",
        "                    validation_split = 0.3,\n",
        "                    callbacks=[TensorBoard()],\n",
        "                    verbose=1)"
      ],
      "execution_count": null,
      "outputs": []
    },
    {
      "cell_type": "code",
      "metadata": {
        "id": "LMJ9FjwI03g-"
      },
      "source": [
        "call_y_pred = model.predict(call_X_test)"
      ],
      "execution_count": null,
      "outputs": []
    },
    {
      "cell_type": "code",
      "metadata": {
        "id": "um1A7WAPa7nQ"
      },
      "source": [
        "call_y_pred.shape"
      ],
      "execution_count": null,
      "outputs": []
    },
    {
      "cell_type": "code",
      "metadata": {
        "id": "ymNGgApl1J2q"
      },
      "source": [
        "x=np.array(call_y_test).reshape(-1,1)\n",
        "y=np.array(call_y_pred).reshape(-1,1)\n",
        "reg=LinearRegression().fit(x,y)\n",
        "mae= mean_absolute_error(x,y)"
      ],
      "execution_count": null,
      "outputs": []
    },
    {
      "cell_type": "code",
      "metadata": {
        "id": "Gc13laAQ1nly"
      },
      "source": [
        "print(reg.score(x,y),mae)"
      ],
      "execution_count": null,
      "outputs": []
    },
    {
      "cell_type": "code",
      "metadata": {
        "id": "0HHuc_j5ajw2"
      },
      "source": [
        "plt.scatter(x,y)"
      ],
      "execution_count": null,
      "outputs": []
    },
    {
      "cell_type": "code",
      "metadata": {
        "id": "NwTZRC4OgVgx"
      },
      "source": [
        "from sklearn.metrics import r2_score\n",
        "r2_score(call_y_test,call_y_pred)"
      ],
      "execution_count": null,
      "outputs": []
    },
    {
      "cell_type": "code",
      "metadata": {
        "id": "9mPINrWwhten"
      },
      "source": [
        "r2_score(call_y_test,call_y_test_bs)"
      ],
      "execution_count": null,
      "outputs": []
    }
  ]
}
{
  "nbformat": 4,
  "nbformat_minor": 0,
  "metadata": {
    "colab": {
      "name": "Lstm.ipynb",
      "provenance": [],
      "collapsed_sections": []
    },
    "kernelspec": {
      "name": "python3",
      "display_name": "Python 3"
    },
    "language_info": {
      "name": "python"
    },
    "accelerator": "GPU"
  },
  "cells": [
    {
      "cell_type": "code",
      "metadata": {
        "id": "3kvt58fEu0fZ"
      },
      "source": [
        "import pandas as pd\n",
        "import numpy as np\n",
        "import matplotlib.pyplot as plt\n",
        "from tensorflow.keras.models import Sequential, Model\n",
        "from tensorflow.keras.layers import Dense, Activation, LeakyReLU, BatchNormalization, LSTM, Bidirectional, Input, Concatenate\n",
        "from tensorflow.keras import backend\n",
        "from tensorflow.keras.callbacks import TensorBoard\n",
        "from tensorflow.keras.optimizers import Adam\n",
        "import pandas as pd\n",
        "import numpy as np\n",
        "from sklearn.model_selection import train_test_split\n",
        "from sklearn.linear_model import LinearRegression\n",
        "from sklearn.metrics import mean_squared_error, mean_absolute_error\n",
        "import seaborn as sns"
      ],
      "execution_count": null,
      "outputs": []
    },
    {
      "cell_type": "code",
      "metadata": {
        "id": "F_6EAEdcD8bi"
      },
      "source": [
        "from tensorflow import keras"
      ],
      "execution_count": null,
      "outputs": []
    },
    {
      "cell_type": "code",
      "metadata": {
        "id": "nx4UZ0YZvUht"
      },
      "source": [
        "call_df=pd.read_csv('/content/drive/MyDrive/black_scholes_option_pricing/complete_data/call_black_scholes.csv')\n",
        "put_df=pd.read_csv('/content/drive/MyDrive/black_scholes_option_pricing/complete_data/put_black_scholes.csv')\n",
        "call_df=call_df.set_index(['Date'])\n",
        "call_df=call_df[call_df['Close']>1]"
      ],
      "execution_count": null,
      "outputs": []
    },
    {
      "cell_type": "code",
      "metadata": {
        "colab": {
          "base_uri": "https://localhost:8080/",
          "height": 234
        },
        "id": "v8lg_DT7ZGKj",
        "outputId": "7f2e6025-3ee6-47d9-ef7f-950da4c553a4"
      },
      "source": [
        "call_df.head()"
      ],
      "execution_count": null,
      "outputs": [
        {
          "output_type": "execute_result",
          "data": {
            "text/html": [
              "<div>\n",
              "<style scoped>\n",
              "    .dataframe tbody tr th:only-of-type {\n",
              "        vertical-align: middle;\n",
              "    }\n",
              "\n",
              "    .dataframe tbody tr th {\n",
              "        vertical-align: top;\n",
              "    }\n",
              "\n",
              "    .dataframe thead th {\n",
              "        text-align: right;\n",
              "    }\n",
              "</style>\n",
              "<table border=\"1\" class=\"dataframe\">\n",
              "  <thead>\n",
              "    <tr style=\"text-align: right;\">\n",
              "      <th></th>\n",
              "      <th>Strike Price</th>\n",
              "      <th>Close</th>\n",
              "      <th>Expiration</th>\n",
              "      <th>Adj Close</th>\n",
              "      <th>return</th>\n",
              "      <th>volatility</th>\n",
              "      <th>Price</th>\n",
              "      <th>bs_call</th>\n",
              "    </tr>\n",
              "    <tr>\n",
              "      <th>Date</th>\n",
              "      <th></th>\n",
              "      <th></th>\n",
              "      <th></th>\n",
              "      <th></th>\n",
              "      <th></th>\n",
              "      <th></th>\n",
              "      <th></th>\n",
              "      <th></th>\n",
              "    </tr>\n",
              "  </thead>\n",
              "  <tbody>\n",
              "    <tr>\n",
              "      <th>2013-12-31</th>\n",
              "      <td>6200</td>\n",
              "      <td>199.65</td>\n",
              "      <td>30</td>\n",
              "      <td>6304.0</td>\n",
              "      <td>0.002051</td>\n",
              "      <td>0.135503</td>\n",
              "      <td>8.82</td>\n",
              "      <td>188.621115</td>\n",
              "    </tr>\n",
              "    <tr>\n",
              "      <th>2013-12-31</th>\n",
              "      <td>6300</td>\n",
              "      <td>131.00</td>\n",
              "      <td>30</td>\n",
              "      <td>6304.0</td>\n",
              "      <td>0.002051</td>\n",
              "      <td>0.135503</td>\n",
              "      <td>8.82</td>\n",
              "      <td>124.059028</td>\n",
              "    </tr>\n",
              "    <tr>\n",
              "      <th>2013-12-31</th>\n",
              "      <td>6400</td>\n",
              "      <td>79.00</td>\n",
              "      <td>30</td>\n",
              "      <td>6304.0</td>\n",
              "      <td>0.002051</td>\n",
              "      <td>0.135503</td>\n",
              "      <td>8.82</td>\n",
              "      <td>75.195204</td>\n",
              "    </tr>\n",
              "    <tr>\n",
              "      <th>2013-12-31</th>\n",
              "      <td>6500</td>\n",
              "      <td>41.35</td>\n",
              "      <td>30</td>\n",
              "      <td>6304.0</td>\n",
              "      <td>0.002051</td>\n",
              "      <td>0.135503</td>\n",
              "      <td>8.82</td>\n",
              "      <td>41.683668</td>\n",
              "    </tr>\n",
              "    <tr>\n",
              "      <th>2013-12-31</th>\n",
              "      <td>6600</td>\n",
              "      <td>18.60</td>\n",
              "      <td>30</td>\n",
              "      <td>6304.0</td>\n",
              "      <td>0.002051</td>\n",
              "      <td>0.135503</td>\n",
              "      <td>8.82</td>\n",
              "      <td>21.015752</td>\n",
              "    </tr>\n",
              "  </tbody>\n",
              "</table>\n",
              "</div>"
            ],
            "text/plain": [
              "            Strike Price   Close  Expiration  ...  volatility  Price     bs_call\n",
              "Date                                          ...                               \n",
              "2013-12-31          6200  199.65          30  ...    0.135503   8.82  188.621115\n",
              "2013-12-31          6300  131.00          30  ...    0.135503   8.82  124.059028\n",
              "2013-12-31          6400   79.00          30  ...    0.135503   8.82   75.195204\n",
              "2013-12-31          6500   41.35          30  ...    0.135503   8.82   41.683668\n",
              "2013-12-31          6600   18.60          30  ...    0.135503   8.82   21.015752\n",
              "\n",
              "[5 rows x 8 columns]"
            ]
          },
          "metadata": {
            "tags": []
          },
          "execution_count": 73
        }
      ]
    },
    {
      "cell_type": "code",
      "metadata": {
        "id": "DVtJ2VsGvttP"
      },
      "source": [
        "spot_df=pd.read_csv('/content/drive/MyDrive/black_scholes_option_pricing/spot_price/^NSEI.csv')\n",
        "spot_df.drop(['Open','High','Low','Close','Volume'],axis=1,inplace=True)\n",
        "spot_df=spot_df.set_index(['Date'])\n",
        "spot_df.dropna(inplace=True)"
      ],
      "execution_count": null,
      "outputs": []
    },
    {
      "cell_type": "code",
      "metadata": {
        "colab": {
          "base_uri": "https://localhost:8080/",
          "height": 234
        },
        "id": "7_ms8rcdZQW_",
        "outputId": "9aa83a41-33a7-427a-d166-ad28052192ab"
      },
      "source": [
        "spot_df.head()"
      ],
      "execution_count": null,
      "outputs": [
        {
          "output_type": "execute_result",
          "data": {
            "text/html": [
              "<div>\n",
              "<style scoped>\n",
              "    .dataframe tbody tr th:only-of-type {\n",
              "        vertical-align: middle;\n",
              "    }\n",
              "\n",
              "    .dataframe tbody tr th {\n",
              "        vertical-align: top;\n",
              "    }\n",
              "\n",
              "    .dataframe thead th {\n",
              "        text-align: right;\n",
              "    }\n",
              "</style>\n",
              "<table border=\"1\" class=\"dataframe\">\n",
              "  <thead>\n",
              "    <tr style=\"text-align: right;\">\n",
              "      <th></th>\n",
              "      <th>Adj Close</th>\n",
              "    </tr>\n",
              "    <tr>\n",
              "      <th>Date</th>\n",
              "      <th></th>\n",
              "    </tr>\n",
              "  </thead>\n",
              "  <tbody>\n",
              "    <tr>\n",
              "      <th>2013-12-02</th>\n",
              "      <td>6217.850098</td>\n",
              "    </tr>\n",
              "    <tr>\n",
              "      <th>2013-12-03</th>\n",
              "      <td>6201.850098</td>\n",
              "    </tr>\n",
              "    <tr>\n",
              "      <th>2013-12-04</th>\n",
              "      <td>6160.950195</td>\n",
              "    </tr>\n",
              "    <tr>\n",
              "      <th>2013-12-05</th>\n",
              "      <td>6241.100098</td>\n",
              "    </tr>\n",
              "    <tr>\n",
              "      <th>2013-12-06</th>\n",
              "      <td>6259.899902</td>\n",
              "    </tr>\n",
              "  </tbody>\n",
              "</table>\n",
              "</div>"
            ],
            "text/plain": [
              "              Adj Close\n",
              "Date                   \n",
              "2013-12-02  6217.850098\n",
              "2013-12-03  6201.850098\n",
              "2013-12-04  6160.950195\n",
              "2013-12-05  6241.100098\n",
              "2013-12-06  6259.899902"
            ]
          },
          "metadata": {
            "tags": []
          },
          "execution_count": 55
        }
      ]
    },
    {
      "cell_type": "code",
      "metadata": {
        "id": "QULJ7pF1v9QH"
      },
      "source": [
        "padded = np.insert(spot_df['Adj Close'].values, 0, np.array([np.nan] * 20))"
      ],
      "execution_count": null,
      "outputs": []
    },
    {
      "cell_type": "code",
      "metadata": {
        "id": "ytJ_npgiwYQt"
      },
      "source": [
        "rolled = np.column_stack([np.roll(padded, i) for i in range(20)])"
      ],
      "execution_count": null,
      "outputs": []
    },
    {
      "cell_type": "code",
      "metadata": {
        "colab": {
          "base_uri": "https://localhost:8080/"
        },
        "id": "bJa5jS6Dz0jM",
        "outputId": "d3ddc899-8aeb-410c-b81c-4b59e0fea381"
      },
      "source": [
        "from google.colab import drive\n",
        "drive.mount('/content/drive')"
      ],
      "execution_count": null,
      "outputs": [
        {
          "output_type": "stream",
          "text": [
            "Drive already mounted at /content/drive; to attempt to forcibly remount, call drive.mount(\"/content/drive\", force_remount=True).\n"
          ],
          "name": "stdout"
        }
      ]
    },
    {
      "cell_type": "code",
      "metadata": {
        "id": "l9psuE6mxG7x"
      },
      "source": [
        "rolled = rolled[~np.isnan(rolled).any(axis=1)]"
      ],
      "execution_count": null,
      "outputs": []
    },
    {
      "cell_type": "code",
      "metadata": {
        "id": "0rz6Aq4E1ejp"
      },
      "source": [
        "rolled = np.column_stack((spot_df[19:], rolled))"
      ],
      "execution_count": null,
      "outputs": []
    },
    {
      "cell_type": "code",
      "metadata": {
        "id": "gSNTvCQa3jT5"
      },
      "source": [
        "price_history = pd.DataFrame(data=rolled)\n",
        "price_history['date']=spot_df.index[19:]\n",
        "price_history=price_history.set_index(['date'])"
      ],
      "execution_count": null,
      "outputs": []
    },
    {
      "cell_type": "code",
      "metadata": {
        "id": "mLnQtB5h4B6d"
      },
      "source": [
        "joined = call_df.join(price_history,how='inner')"
      ],
      "execution_count": null,
      "outputs": []
    },
    {
      "cell_type": "code",
      "metadata": {
        "colab": {
          "base_uri": "https://localhost:8080/",
          "height": 324
        },
        "id": "HxoHoaL8LlDO",
        "outputId": "265a3392-63b4-40b1-de78-b66a32afa7fd"
      },
      "source": [
        "joined.head()"
      ],
      "execution_count": null,
      "outputs": [
        {
          "output_type": "execute_result",
          "data": {
            "text/html": [
              "<div>\n",
              "<style scoped>\n",
              "    .dataframe tbody tr th:only-of-type {\n",
              "        vertical-align: middle;\n",
              "    }\n",
              "\n",
              "    .dataframe tbody tr th {\n",
              "        vertical-align: top;\n",
              "    }\n",
              "\n",
              "    .dataframe thead th {\n",
              "        text-align: right;\n",
              "    }\n",
              "</style>\n",
              "<table border=\"1\" class=\"dataframe\">\n",
              "  <thead>\n",
              "    <tr style=\"text-align: right;\">\n",
              "      <th></th>\n",
              "      <th>Strike Price</th>\n",
              "      <th>Close</th>\n",
              "      <th>Expiration</th>\n",
              "      <th>Adj Close</th>\n",
              "      <th>return</th>\n",
              "      <th>volatility</th>\n",
              "      <th>Price</th>\n",
              "      <th>bs_call</th>\n",
              "      <th>0</th>\n",
              "      <th>1</th>\n",
              "      <th>2</th>\n",
              "      <th>3</th>\n",
              "      <th>4</th>\n",
              "      <th>5</th>\n",
              "      <th>6</th>\n",
              "      <th>7</th>\n",
              "      <th>8</th>\n",
              "      <th>9</th>\n",
              "      <th>10</th>\n",
              "      <th>11</th>\n",
              "      <th>12</th>\n",
              "      <th>13</th>\n",
              "      <th>14</th>\n",
              "      <th>15</th>\n",
              "      <th>16</th>\n",
              "      <th>17</th>\n",
              "      <th>18</th>\n",
              "      <th>19</th>\n",
              "      <th>20</th>\n",
              "    </tr>\n",
              "  </thead>\n",
              "  <tbody>\n",
              "    <tr>\n",
              "      <th>2013-12-31</th>\n",
              "      <td>6200</td>\n",
              "      <td>199.65</td>\n",
              "      <td>30</td>\n",
              "      <td>6304.0</td>\n",
              "      <td>0.002051</td>\n",
              "      <td>0.135503</td>\n",
              "      <td>8.82</td>\n",
              "      <td>188.621115</td>\n",
              "      <td>6304.0</td>\n",
              "      <td>6304.0</td>\n",
              "      <td>6291.100098</td>\n",
              "      <td>6313.799805</td>\n",
              "      <td>6278.899902</td>\n",
              "      <td>6268.399902</td>\n",
              "      <td>6284.5</td>\n",
              "      <td>6274.25</td>\n",
              "      <td>6166.649902</td>\n",
              "      <td>6217.149902</td>\n",
              "      <td>6139.049805</td>\n",
              "      <td>6154.700195</td>\n",
              "      <td>6168.399902</td>\n",
              "      <td>6237.049805</td>\n",
              "      <td>6307.899902</td>\n",
              "      <td>6332.850098</td>\n",
              "      <td>6363.899902</td>\n",
              "      <td>6259.899902</td>\n",
              "      <td>6241.100098</td>\n",
              "      <td>6160.950195</td>\n",
              "      <td>6201.850098</td>\n",
              "    </tr>\n",
              "    <tr>\n",
              "      <th>2013-12-31</th>\n",
              "      <td>6300</td>\n",
              "      <td>131.00</td>\n",
              "      <td>30</td>\n",
              "      <td>6304.0</td>\n",
              "      <td>0.002051</td>\n",
              "      <td>0.135503</td>\n",
              "      <td>8.82</td>\n",
              "      <td>124.059028</td>\n",
              "      <td>6304.0</td>\n",
              "      <td>6304.0</td>\n",
              "      <td>6291.100098</td>\n",
              "      <td>6313.799805</td>\n",
              "      <td>6278.899902</td>\n",
              "      <td>6268.399902</td>\n",
              "      <td>6284.5</td>\n",
              "      <td>6274.25</td>\n",
              "      <td>6166.649902</td>\n",
              "      <td>6217.149902</td>\n",
              "      <td>6139.049805</td>\n",
              "      <td>6154.700195</td>\n",
              "      <td>6168.399902</td>\n",
              "      <td>6237.049805</td>\n",
              "      <td>6307.899902</td>\n",
              "      <td>6332.850098</td>\n",
              "      <td>6363.899902</td>\n",
              "      <td>6259.899902</td>\n",
              "      <td>6241.100098</td>\n",
              "      <td>6160.950195</td>\n",
              "      <td>6201.850098</td>\n",
              "    </tr>\n",
              "    <tr>\n",
              "      <th>2013-12-31</th>\n",
              "      <td>6400</td>\n",
              "      <td>79.00</td>\n",
              "      <td>30</td>\n",
              "      <td>6304.0</td>\n",
              "      <td>0.002051</td>\n",
              "      <td>0.135503</td>\n",
              "      <td>8.82</td>\n",
              "      <td>75.195204</td>\n",
              "      <td>6304.0</td>\n",
              "      <td>6304.0</td>\n",
              "      <td>6291.100098</td>\n",
              "      <td>6313.799805</td>\n",
              "      <td>6278.899902</td>\n",
              "      <td>6268.399902</td>\n",
              "      <td>6284.5</td>\n",
              "      <td>6274.25</td>\n",
              "      <td>6166.649902</td>\n",
              "      <td>6217.149902</td>\n",
              "      <td>6139.049805</td>\n",
              "      <td>6154.700195</td>\n",
              "      <td>6168.399902</td>\n",
              "      <td>6237.049805</td>\n",
              "      <td>6307.899902</td>\n",
              "      <td>6332.850098</td>\n",
              "      <td>6363.899902</td>\n",
              "      <td>6259.899902</td>\n",
              "      <td>6241.100098</td>\n",
              "      <td>6160.950195</td>\n",
              "      <td>6201.850098</td>\n",
              "    </tr>\n",
              "    <tr>\n",
              "      <th>2013-12-31</th>\n",
              "      <td>6500</td>\n",
              "      <td>41.35</td>\n",
              "      <td>30</td>\n",
              "      <td>6304.0</td>\n",
              "      <td>0.002051</td>\n",
              "      <td>0.135503</td>\n",
              "      <td>8.82</td>\n",
              "      <td>41.683668</td>\n",
              "      <td>6304.0</td>\n",
              "      <td>6304.0</td>\n",
              "      <td>6291.100098</td>\n",
              "      <td>6313.799805</td>\n",
              "      <td>6278.899902</td>\n",
              "      <td>6268.399902</td>\n",
              "      <td>6284.5</td>\n",
              "      <td>6274.25</td>\n",
              "      <td>6166.649902</td>\n",
              "      <td>6217.149902</td>\n",
              "      <td>6139.049805</td>\n",
              "      <td>6154.700195</td>\n",
              "      <td>6168.399902</td>\n",
              "      <td>6237.049805</td>\n",
              "      <td>6307.899902</td>\n",
              "      <td>6332.850098</td>\n",
              "      <td>6363.899902</td>\n",
              "      <td>6259.899902</td>\n",
              "      <td>6241.100098</td>\n",
              "      <td>6160.950195</td>\n",
              "      <td>6201.850098</td>\n",
              "    </tr>\n",
              "    <tr>\n",
              "      <th>2013-12-31</th>\n",
              "      <td>6600</td>\n",
              "      <td>18.60</td>\n",
              "      <td>30</td>\n",
              "      <td>6304.0</td>\n",
              "      <td>0.002051</td>\n",
              "      <td>0.135503</td>\n",
              "      <td>8.82</td>\n",
              "      <td>21.015752</td>\n",
              "      <td>6304.0</td>\n",
              "      <td>6304.0</td>\n",
              "      <td>6291.100098</td>\n",
              "      <td>6313.799805</td>\n",
              "      <td>6278.899902</td>\n",
              "      <td>6268.399902</td>\n",
              "      <td>6284.5</td>\n",
              "      <td>6274.25</td>\n",
              "      <td>6166.649902</td>\n",
              "      <td>6217.149902</td>\n",
              "      <td>6139.049805</td>\n",
              "      <td>6154.700195</td>\n",
              "      <td>6168.399902</td>\n",
              "      <td>6237.049805</td>\n",
              "      <td>6307.899902</td>\n",
              "      <td>6332.850098</td>\n",
              "      <td>6363.899902</td>\n",
              "      <td>6259.899902</td>\n",
              "      <td>6241.100098</td>\n",
              "      <td>6160.950195</td>\n",
              "      <td>6201.850098</td>\n",
              "    </tr>\n",
              "  </tbody>\n",
              "</table>\n",
              "</div>"
            ],
            "text/plain": [
              "            Strike Price   Close  ...           19           20\n",
              "2013-12-31          6200  199.65  ...  6160.950195  6201.850098\n",
              "2013-12-31          6300  131.00  ...  6160.950195  6201.850098\n",
              "2013-12-31          6400   79.00  ...  6160.950195  6201.850098\n",
              "2013-12-31          6500   41.35  ...  6160.950195  6201.850098\n",
              "2013-12-31          6600   18.60  ...  6160.950195  6201.850098\n",
              "\n",
              "[5 rows x 29 columns]"
            ]
          },
          "metadata": {
            "tags": []
          },
          "execution_count": 62
        }
      ]
    },
    {
      "cell_type": "code",
      "metadata": {
        "colab": {
          "base_uri": "https://localhost:8080/",
          "height": 324
        },
        "id": "_iloHfefZwFf",
        "outputId": "42a8e52f-fc42-4a5c-ad8b-2ae4547c8295"
      },
      "source": [
        "model_df.head()"
      ],
      "execution_count": null,
      "outputs": [
        {
          "output_type": "execute_result",
          "data": {
            "text/html": [
              "<div>\n",
              "<style scoped>\n",
              "    .dataframe tbody tr th:only-of-type {\n",
              "        vertical-align: middle;\n",
              "    }\n",
              "\n",
              "    .dataframe tbody tr th {\n",
              "        vertical-align: top;\n",
              "    }\n",
              "\n",
              "    .dataframe thead th {\n",
              "        text-align: right;\n",
              "    }\n",
              "</style>\n",
              "<table border=\"1\" class=\"dataframe\">\n",
              "  <thead>\n",
              "    <tr style=\"text-align: right;\">\n",
              "      <th></th>\n",
              "      <th>Strike Price</th>\n",
              "      <th>Close</th>\n",
              "      <th>Expiration</th>\n",
              "      <th>Adj Close</th>\n",
              "      <th>Price</th>\n",
              "      <th>0</th>\n",
              "      <th>1</th>\n",
              "      <th>2</th>\n",
              "      <th>3</th>\n",
              "      <th>4</th>\n",
              "      <th>5</th>\n",
              "      <th>6</th>\n",
              "      <th>7</th>\n",
              "      <th>8</th>\n",
              "      <th>9</th>\n",
              "      <th>10</th>\n",
              "      <th>11</th>\n",
              "      <th>12</th>\n",
              "      <th>13</th>\n",
              "      <th>14</th>\n",
              "      <th>15</th>\n",
              "      <th>16</th>\n",
              "      <th>17</th>\n",
              "      <th>18</th>\n",
              "      <th>19</th>\n",
              "      <th>20</th>\n",
              "    </tr>\n",
              "  </thead>\n",
              "  <tbody>\n",
              "    <tr>\n",
              "      <th>2013-12-31</th>\n",
              "      <td>6200</td>\n",
              "      <td>199.65</td>\n",
              "      <td>30</td>\n",
              "      <td>6304.0</td>\n",
              "      <td>8.82</td>\n",
              "      <td>6304.0</td>\n",
              "      <td>6304.0</td>\n",
              "      <td>6291.100098</td>\n",
              "      <td>6313.799805</td>\n",
              "      <td>6278.899902</td>\n",
              "      <td>6268.399902</td>\n",
              "      <td>6284.5</td>\n",
              "      <td>6274.25</td>\n",
              "      <td>6166.649902</td>\n",
              "      <td>6217.149902</td>\n",
              "      <td>6139.049805</td>\n",
              "      <td>6154.700195</td>\n",
              "      <td>6168.399902</td>\n",
              "      <td>6237.049805</td>\n",
              "      <td>6307.899902</td>\n",
              "      <td>6332.850098</td>\n",
              "      <td>6363.899902</td>\n",
              "      <td>6259.899902</td>\n",
              "      <td>6241.100098</td>\n",
              "      <td>6160.950195</td>\n",
              "      <td>6201.850098</td>\n",
              "    </tr>\n",
              "    <tr>\n",
              "      <th>2013-12-31</th>\n",
              "      <td>6300</td>\n",
              "      <td>131.00</td>\n",
              "      <td>30</td>\n",
              "      <td>6304.0</td>\n",
              "      <td>8.82</td>\n",
              "      <td>6304.0</td>\n",
              "      <td>6304.0</td>\n",
              "      <td>6291.100098</td>\n",
              "      <td>6313.799805</td>\n",
              "      <td>6278.899902</td>\n",
              "      <td>6268.399902</td>\n",
              "      <td>6284.5</td>\n",
              "      <td>6274.25</td>\n",
              "      <td>6166.649902</td>\n",
              "      <td>6217.149902</td>\n",
              "      <td>6139.049805</td>\n",
              "      <td>6154.700195</td>\n",
              "      <td>6168.399902</td>\n",
              "      <td>6237.049805</td>\n",
              "      <td>6307.899902</td>\n",
              "      <td>6332.850098</td>\n",
              "      <td>6363.899902</td>\n",
              "      <td>6259.899902</td>\n",
              "      <td>6241.100098</td>\n",
              "      <td>6160.950195</td>\n",
              "      <td>6201.850098</td>\n",
              "    </tr>\n",
              "    <tr>\n",
              "      <th>2013-12-31</th>\n",
              "      <td>6400</td>\n",
              "      <td>79.00</td>\n",
              "      <td>30</td>\n",
              "      <td>6304.0</td>\n",
              "      <td>8.82</td>\n",
              "      <td>6304.0</td>\n",
              "      <td>6304.0</td>\n",
              "      <td>6291.100098</td>\n",
              "      <td>6313.799805</td>\n",
              "      <td>6278.899902</td>\n",
              "      <td>6268.399902</td>\n",
              "      <td>6284.5</td>\n",
              "      <td>6274.25</td>\n",
              "      <td>6166.649902</td>\n",
              "      <td>6217.149902</td>\n",
              "      <td>6139.049805</td>\n",
              "      <td>6154.700195</td>\n",
              "      <td>6168.399902</td>\n",
              "      <td>6237.049805</td>\n",
              "      <td>6307.899902</td>\n",
              "      <td>6332.850098</td>\n",
              "      <td>6363.899902</td>\n",
              "      <td>6259.899902</td>\n",
              "      <td>6241.100098</td>\n",
              "      <td>6160.950195</td>\n",
              "      <td>6201.850098</td>\n",
              "    </tr>\n",
              "    <tr>\n",
              "      <th>2013-12-31</th>\n",
              "      <td>6500</td>\n",
              "      <td>41.35</td>\n",
              "      <td>30</td>\n",
              "      <td>6304.0</td>\n",
              "      <td>8.82</td>\n",
              "      <td>6304.0</td>\n",
              "      <td>6304.0</td>\n",
              "      <td>6291.100098</td>\n",
              "      <td>6313.799805</td>\n",
              "      <td>6278.899902</td>\n",
              "      <td>6268.399902</td>\n",
              "      <td>6284.5</td>\n",
              "      <td>6274.25</td>\n",
              "      <td>6166.649902</td>\n",
              "      <td>6217.149902</td>\n",
              "      <td>6139.049805</td>\n",
              "      <td>6154.700195</td>\n",
              "      <td>6168.399902</td>\n",
              "      <td>6237.049805</td>\n",
              "      <td>6307.899902</td>\n",
              "      <td>6332.850098</td>\n",
              "      <td>6363.899902</td>\n",
              "      <td>6259.899902</td>\n",
              "      <td>6241.100098</td>\n",
              "      <td>6160.950195</td>\n",
              "      <td>6201.850098</td>\n",
              "    </tr>\n",
              "    <tr>\n",
              "      <th>2013-12-31</th>\n",
              "      <td>6600</td>\n",
              "      <td>18.60</td>\n",
              "      <td>30</td>\n",
              "      <td>6304.0</td>\n",
              "      <td>8.82</td>\n",
              "      <td>6304.0</td>\n",
              "      <td>6304.0</td>\n",
              "      <td>6291.100098</td>\n",
              "      <td>6313.799805</td>\n",
              "      <td>6278.899902</td>\n",
              "      <td>6268.399902</td>\n",
              "      <td>6284.5</td>\n",
              "      <td>6274.25</td>\n",
              "      <td>6166.649902</td>\n",
              "      <td>6217.149902</td>\n",
              "      <td>6139.049805</td>\n",
              "      <td>6154.700195</td>\n",
              "      <td>6168.399902</td>\n",
              "      <td>6237.049805</td>\n",
              "      <td>6307.899902</td>\n",
              "      <td>6332.850098</td>\n",
              "      <td>6363.899902</td>\n",
              "      <td>6259.899902</td>\n",
              "      <td>6241.100098</td>\n",
              "      <td>6160.950195</td>\n",
              "      <td>6201.850098</td>\n",
              "    </tr>\n",
              "  </tbody>\n",
              "</table>\n",
              "</div>"
            ],
            "text/plain": [
              "            Strike Price   Close  ...           19           20\n",
              "2013-12-31          6200  199.65  ...  6160.950195  6201.850098\n",
              "2013-12-31          6300  131.00  ...  6160.950195  6201.850098\n",
              "2013-12-31          6400   79.00  ...  6160.950195  6201.850098\n",
              "2013-12-31          6500   41.35  ...  6160.950195  6201.850098\n",
              "2013-12-31          6600   18.60  ...  6160.950195  6201.850098\n",
              "\n",
              "[5 rows x 26 columns]"
            ]
          },
          "metadata": {
            "tags": []
          },
          "execution_count": 63
        }
      ]
    },
    {
      "cell_type": "code",
      "metadata": {
        "id": "S7TyYn8nP_Ti"
      },
      "source": [
        "model_df=joined.drop(['return','volatility','bs_call'],axis=1)"
      ],
      "execution_count": null,
      "outputs": []
    },
    {
      "cell_type": "code",
      "metadata": {
        "id": "KvoMr_0ZOtzJ"
      },
      "source": [
        "def split_data(df):\n",
        "  call_X_train, call_X_test, call_y_train, call_y_test = train_test_split(df.drop(['Close'],axis=1).values,df['Close'].values,test_size=0.01,random_state=42)\n",
        "  return call_X_train, call_X_test, call_y_train, call_y_test"
      ],
      "execution_count": null,
      "outputs": []
    },
    {
      "cell_type": "code",
      "metadata": {
        "id": "gOUJx_9yXNaT"
      },
      "source": [
        ""
      ],
      "execution_count": null,
      "outputs": []
    },
    {
      "cell_type": "code",
      "metadata": {
        "id": "GLMH3fUdRBcp"
      },
      "source": [
        "call_X_train, call_X_test, call_y_train, call_y_test=split_data(model_df)"
      ],
      "execution_count": null,
      "outputs": []
    },
    {
      "cell_type": "code",
      "metadata": {
        "colab": {
          "base_uri": "https://localhost:8080/"
        },
        "id": "QrUOKyU8bcU_",
        "outputId": "6d36bc9b-f687-4176-d167-de45fb9ca5c9"
      },
      "source": [
        "call_X_train.shape"
      ],
      "execution_count": null,
      "outputs": [
        {
          "output_type": "execute_result",
          "data": {
            "text/plain": [
              "(53925, 25)"
            ]
          },
          "metadata": {
            "tags": []
          },
          "execution_count": 67
        }
      ]
    },
    {
      "cell_type": "code",
      "metadata": {
        "id": "bfHRB3XQRbUJ"
      },
      "source": [
        "N_TIMESTEPS = 20"
      ],
      "execution_count": null,
      "outputs": []
    },
    {
      "cell_type": "code",
      "metadata": {
        "id": "GCkcs32hRT9u"
      },
      "source": [
        "call_X_train = [call_X_train[:, -N_TIMESTEPS:].reshape(call_X_train.shape[0], N_TIMESTEPS, 1), call_X_train[:, :4]]\n",
        "call_X_test = [call_X_test[:, -N_TIMESTEPS:].reshape(call_X_test.shape[0], N_TIMESTEPS, 1), call_X_test[:, :4]]"
      ],
      "execution_count": null,
      "outputs": []
    },
    {
      "cell_type": "code",
      "metadata": {
        "colab": {
          "base_uri": "https://localhost:8080/"
        },
        "id": "JE-8G7SbV4eC",
        "outputId": "57f9135a-1a07-491d-fb56-d0c3f176606f"
      },
      "source": [
        "call_X_train"
      ],
      "execution_count": null,
      "outputs": [
        {
          "output_type": "execute_result",
          "data": {
            "text/plain": [
              "2"
            ]
          },
          "metadata": {
            "tags": []
          },
          "execution_count": 71
        }
      ]
    },
    {
      "cell_type": "code",
      "metadata": {
        "id": "Ocg7qolaR2kH"
      },
      "source": [
        "layers = 4\n",
        "n_timesteps = 20\n",
        "features = 4\n",
        "n_batch = 409\n",
        "n_epochs = 100"
      ],
      "execution_count": null,
      "outputs": []
    },
    {
      "cell_type": "code",
      "metadata": {
        "id": "QiatTTnjT9vU"
      },
      "source": [
        "def make_model():\n",
        "    close_history = Input((n_timesteps, 1))\n",
        "    input2 = Input((features,))\n",
        "    \n",
        "    lstm = Sequential()\n",
        "    lstm.add(LSTM(units=8, input_shape=(n_timesteps, 1), return_sequences=True))\n",
        "    lstm.add(LSTM(units=8, return_sequences=True))\n",
        "    lstm.add(LSTM(units=8, return_sequences=True))\n",
        "    lstm.add(LSTM(units=8, return_sequences=False))\n",
        "    input1 = lstm(close_history)\n",
        "    \n",
        "    connect = Concatenate()([input1, input2])\n",
        "    \n",
        "    for _ in range(layers - 1):\n",
        "        connect = Dense(100)(connect)\n",
        "        connect = BatchNormalization()(connect)\n",
        "        connect = LeakyReLU()(connect)\n",
        "    \n",
        "    predict = Dense(1, activation='relu')(connect)\n",
        "\n",
        "    return Model(inputs=[close_history, input2], outputs=predict)\n"
      ],
      "execution_count": null,
      "outputs": []
    },
    {
      "cell_type": "code",
      "metadata": {
        "id": "G4xqwoduV-i1"
      },
      "source": [
        "model = make_model()"
      ],
      "execution_count": null,
      "outputs": []
    },
    {
      "cell_type": "code",
      "metadata": {
        "colab": {
          "base_uri": "https://localhost:8080/"
        },
        "id": "Dm-8tIcCYjvk",
        "outputId": "8a565f3f-f319-414a-95b5-e9baa434c6d5"
      },
      "source": [
        "model.summary()\n"
      ],
      "execution_count": null,
      "outputs": [
        {
          "output_type": "stream",
          "text": [
            "Model: \"model\"\n",
            "__________________________________________________________________________________________________\n",
            "Layer (type)                    Output Shape         Param #     Connected to                     \n",
            "==================================================================================================\n",
            "input_1 (InputLayer)            [(None, 20, 1)]      0                                            \n",
            "__________________________________________________________________________________________________\n",
            "sequential (Sequential)         (None, 8)            1952        input_1[0][0]                    \n",
            "__________________________________________________________________________________________________\n",
            "input_2 (InputLayer)            [(None, 4)]          0                                            \n",
            "__________________________________________________________________________________________________\n",
            "concatenate (Concatenate)       (None, 12)           0           sequential[0][0]                 \n",
            "                                                                 input_2[0][0]                    \n",
            "__________________________________________________________________________________________________\n",
            "dense (Dense)                   (None, 100)          1300        concatenate[0][0]                \n",
            "__________________________________________________________________________________________________\n",
            "batch_normalization (BatchNorma (None, 100)          400         dense[0][0]                      \n",
            "__________________________________________________________________________________________________\n",
            "leaky_re_lu (LeakyReLU)         (None, 100)          0           batch_normalization[0][0]        \n",
            "__________________________________________________________________________________________________\n",
            "dense_1 (Dense)                 (None, 100)          10100       leaky_re_lu[0][0]                \n",
            "__________________________________________________________________________________________________\n",
            "batch_normalization_1 (BatchNor (None, 100)          400         dense_1[0][0]                    \n",
            "__________________________________________________________________________________________________\n",
            "leaky_re_lu_1 (LeakyReLU)       (None, 100)          0           batch_normalization_1[0][0]      \n",
            "__________________________________________________________________________________________________\n",
            "dense_2 (Dense)                 (None, 100)          10100       leaky_re_lu_1[0][0]              \n",
            "__________________________________________________________________________________________________\n",
            "batch_normalization_2 (BatchNor (None, 100)          400         dense_2[0][0]                    \n",
            "__________________________________________________________________________________________________\n",
            "leaky_re_lu_2 (LeakyReLU)       (None, 100)          0           batch_normalization_2[0][0]      \n",
            "__________________________________________________________________________________________________\n",
            "dense_3 (Dense)                 (None, 1)            101         leaky_re_lu_2[0][0]              \n",
            "==================================================================================================\n",
            "Total params: 24,753\n",
            "Trainable params: 24,153\n",
            "Non-trainable params: 600\n",
            "__________________________________________________________________________________________________\n"
          ],
          "name": "stdout"
        }
      ]
    },
    {
      "cell_type": "code",
      "metadata": {
        "id": "5Kd6XG2RZRHf"
      },
      "source": [
        "model.compile(optimizer=Adam(lr=1e-4), loss='mse')\n",
        "history = model.fit(call_X_train, call_y_train, \n",
        "                    batch_size=n_batch, epochs=n_epochs, \n",
        "                    validation_split = 0.01,\n",
        "                    callbacks=[TensorBoard()],\n",
        "                    verbose=1)"
      ],
      "execution_count": null,
      "outputs": []
    },
    {
      "cell_type": "code",
      "metadata": {
        "id": "MSOeJ4n6ZeNR"
      },
      "source": [
        "y_pred=model.predict(call_X_test)"
      ],
      "execution_count": null,
      "outputs": []
    },
    {
      "cell_type": "code",
      "metadata": {
        "colab": {
          "base_uri": "https://localhost:8080/"
        },
        "id": "NypRHpzWfF06",
        "outputId": "e5b0b9ec-fd2e-4c8f-d1ea-4808ce3a8c0d"
      },
      "source": [
        "y_pred.shape"
      ],
      "execution_count": null,
      "outputs": [
        {
          "output_type": "execute_result",
          "data": {
            "text/plain": [
              "(545, 1)"
            ]
          },
          "metadata": {
            "tags": []
          },
          "execution_count": 138
        }
      ]
    },
    {
      "cell_type": "code",
      "metadata": {
        "colab": {
          "base_uri": "https://localhost:8080/"
        },
        "id": "XEcrKveCbtaA",
        "outputId": "3984b4e7-2005-4a03-b260-2176b3f90c4c"
      },
      "source": [
        "x=np.array(call_y_test).reshape(-1,1)\n",
        "#y=np.array(y_pred).reshape(-1,1)\n",
        "reg=LinearRegression().fit(x,y_pred)\n",
        "mae= mean_absolute_error(x,y_pred)\n",
        "print(reg.score(x,y_pred),mae)"
      ],
      "execution_count": null,
      "outputs": [
        {
          "output_type": "stream",
          "text": [
            "0.9731665577629489 171.63955107207696\n"
          ],
          "name": "stdout"
        }
      ]
    },
    {
      "cell_type": "code",
      "metadata": {
        "id": "qzkoPWtnzpy-"
      },
      "source": [
        "layers = 4\n",
        "n_timesteps = 20\n",
        "features = 4\n",
        "n_batch = 409\n",
        "n_epochs = 100"
      ],
      "execution_count": null,
      "outputs": []
    },
    {
      "cell_type": "code",
      "metadata": {
        "id": "YVMQgO8Le7mH"
      },
      "source": [
        "import kerastuner as kt"
      ],
      "execution_count": null,
      "outputs": []
    },
    {
      "cell_type": "code",
      "metadata": {
        "id": "IOj-oWg-4mGB",
        "colab": {
          "base_uri": "https://localhost:8080/"
        },
        "outputId": "434dd07d-5e2a-4675-8be8-e89211b25b36"
      },
      "source": [
        "pip install -q -U keras-tuner"
      ],
      "execution_count": null,
      "outputs": [
        {
          "output_type": "stream",
          "text": [
            "\u001b[?25l\r\u001b[K     |█████▏                          | 10kB 26.0MB/s eta 0:00:01\r\u001b[K     |██████████▍                     | 20kB 32.7MB/s eta 0:00:01\r\u001b[K     |███████████████▋                | 30kB 28.1MB/s eta 0:00:01\r\u001b[K     |████████████████████▉           | 40kB 20.4MB/s eta 0:00:01\r\u001b[K     |██████████████████████████      | 51kB 10.0MB/s eta 0:00:01\r\u001b[K     |███████████████████████████████▎| 61kB 9.1MB/s eta 0:00:01\r\u001b[K     |████████████████████████████████| 71kB 6.0MB/s \n",
            "\u001b[?25h  Building wheel for keras-tuner (setup.py) ... \u001b[?25l\u001b[?25hdone\n",
            "  Building wheel for terminaltables (setup.py) ... \u001b[?25l\u001b[?25hdone\n"
          ],
          "name": "stdout"
        }
      ]
    },
    {
      "cell_type": "code",
      "metadata": {
        "id": "UZMzHI9t7FvG"
      },
      "source": [
        "def model(hp):\n",
        "    close_history = Input((n_timesteps, 1))\n",
        "    input2 = Input((features,))\n",
        "    \n",
        "    lstm = Sequential()\n",
        "    lstm.add(LSTM(units=8, input_shape=(n_timesteps, 1), return_sequences=True))\n",
        "    \n",
        "    for i in range(hp.Int('num_layers',2,6)):\n",
        "      lstm.add(LSTM(units=hp.Int('units_'+str(i),min_value=4,max_value=16,step=2),return_sequences=True))\n",
        "\n",
        "    \n",
        "    lstm.add(LSTM(units=8,return_sequences=False))\n",
        "    input1 = lstm(close_history)\n",
        "    \n",
        "    connect = Concatenate()([input1, input2])\n",
        "    \n",
        "    for _ in range(layers - 1):\n",
        "        connect = Dense(100)(connect)\n",
        "        connect = BatchNormalization()(connect)\n",
        "        connect = LeakyReLU()(connect)\n",
        "    \n",
        "    predict = Dense(1, activation='relu')(connect)\n",
        "\n",
        "    new_model= Model(inputs=[close_history, input2], outputs=predict)\n",
        "    new_model.compile(optimizer=Adam(hp.Choice('learning_rate', [1e-3, 1e-4,1e-5,1e-6])), loss='mse',metrics=['mse'])\n",
        "    return new_model\n",
        "\n"
      ],
      "execution_count": null,
      "outputs": []
    },
    {
      "cell_type": "code",
      "metadata": {
        "id": "Id9fTLPzy_AG"
      },
      "source": [
        "tuner = kt.Hyperband(\n",
        "    model,\n",
        "    objective='mse',\n",
        "    max_epochs=10,seed=40,\n",
        "    factor=3)"
      ],
      "execution_count": null,
      "outputs": []
    },
    {
      "cell_type": "code",
      "metadata": {
        "colab": {
          "base_uri": "https://localhost:8080/"
        },
        "id": "2zcNQsafEwZ7",
        "outputId": "30c9e8b9-c48f-462f-8942-8db143c72a18"
      },
      "source": [
        "tuner.search_space_summary()\n"
      ],
      "execution_count": null,
      "outputs": [
        {
          "output_type": "stream",
          "text": [
            "Search space summary\n",
            "Default search space size: 4\n",
            "num_layers (Int)\n",
            "{'default': None, 'conditions': [], 'min_value': 2, 'max_value': 6, 'step': 1, 'sampling': None}\n",
            "units_0 (Int)\n",
            "{'default': None, 'conditions': [], 'min_value': 4, 'max_value': 16, 'step': 2, 'sampling': None}\n",
            "units_1 (Int)\n",
            "{'default': None, 'conditions': [], 'min_value': 4, 'max_value': 16, 'step': 2, 'sampling': None}\n",
            "learning_rate (Choice)\n",
            "{'default': 0.001, 'conditions': [], 'values': [0.001, 0.0001, 1e-05, 1e-06], 'ordered': True}\n"
          ],
          "name": "stdout"
        }
      ]
    },
    {
      "cell_type": "code",
      "metadata": {
        "id": "NO_2H5o0E97M"
      },
      "source": [
        "tuner.search(call_X_train, call_y_train,epochs=10,validation_split=0.1)"
      ],
      "execution_count": null,
      "outputs": []
    },
    {
      "cell_type": "code",
      "metadata": {
        "id": "hEf5Fbd0IgRO"
      },
      "source": [
        "best_hps=tuner.get_best_hyperparameters(num_trials=1)[0]\n"
      ],
      "execution_count": null,
      "outputs": []
    },
    {
      "cell_type": "code",
      "metadata": {
        "colab": {
          "base_uri": "https://localhost:8080/"
        },
        "id": "vB4Zqz8UK6ex",
        "outputId": "6ab439b1-146b-4de6-9090-5587d4afaed9"
      },
      "source": [
        "best_model=tuner.hypermodel.build(best_hps)\n",
        "best_model.fit(call_X_train, call_y_train, epochs=20, validation_split=0.1)"
      ],
      "execution_count": null,
      "outputs": [
        {
          "output_type": "stream",
          "text": [
            "Epoch 1/20\n",
            "1517/1517 [==============================] - 34s 17ms/step - loss: 153768.4844 - mse: 153768.4844 - val_loss: 29446.0762 - val_mse: 29446.0762\n",
            "Epoch 2/20\n",
            "1517/1517 [==============================] - 23s 15ms/step - loss: 28109.8066 - mse: 28109.8066 - val_loss: 20817.9453 - val_mse: 20817.9453\n",
            "Epoch 3/20\n",
            "1517/1517 [==============================] - 23s 15ms/step - loss: 23508.1562 - mse: 23508.1562 - val_loss: 20373.5273 - val_mse: 20373.5273\n",
            "Epoch 4/20\n",
            "1517/1517 [==============================] - 23s 15ms/step - loss: 21193.4375 - mse: 21193.4375 - val_loss: 23265.5762 - val_mse: 23265.5762\n",
            "Epoch 5/20\n",
            "1517/1517 [==============================] - 23s 15ms/step - loss: 18571.7812 - mse: 18571.7812 - val_loss: 10176.6963 - val_mse: 10176.6963\n",
            "Epoch 6/20\n",
            "1517/1517 [==============================] - 23s 15ms/step - loss: 16933.9863 - mse: 16933.9863 - val_loss: 12996.6738 - val_mse: 12996.6738\n",
            "Epoch 7/20\n",
            "1517/1517 [==============================] - 23s 15ms/step - loss: 15850.5088 - mse: 15850.5088 - val_loss: 9131.8252 - val_mse: 9131.8252\n",
            "Epoch 8/20\n",
            "1517/1517 [==============================] - 23s 15ms/step - loss: 15743.0186 - mse: 15743.0186 - val_loss: 11747.7246 - val_mse: 11747.7246\n",
            "Epoch 9/20\n",
            "1517/1517 [==============================] - 23s 15ms/step - loss: 15198.1602 - mse: 15198.1602 - val_loss: 22670.2383 - val_mse: 22670.2383\n",
            "Epoch 10/20\n",
            "1517/1517 [==============================] - 23s 15ms/step - loss: 15136.3193 - mse: 15136.3193 - val_loss: 36601.5977 - val_mse: 36601.5977\n",
            "Epoch 11/20\n",
            "1517/1517 [==============================] - 23s 15ms/step - loss: 15036.9580 - mse: 15036.9580 - val_loss: 9880.2012 - val_mse: 9880.2012\n",
            "Epoch 12/20\n",
            "1517/1517 [==============================] - 23s 15ms/step - loss: 15080.7773 - mse: 15080.7773 - val_loss: 14095.1377 - val_mse: 14095.1377\n",
            "Epoch 13/20\n",
            "1517/1517 [==============================] - 23s 15ms/step - loss: 14968.3672 - mse: 14968.3672 - val_loss: 15861.9082 - val_mse: 15861.9082\n",
            "Epoch 14/20\n",
            "1517/1517 [==============================] - 23s 15ms/step - loss: 14645.6582 - mse: 14645.6582 - val_loss: 11416.5869 - val_mse: 11416.5869\n",
            "Epoch 15/20\n",
            "1517/1517 [==============================] - 23s 15ms/step - loss: 14782.7764 - mse: 14782.7764 - val_loss: 11756.8555 - val_mse: 11756.8555\n",
            "Epoch 16/20\n",
            "1517/1517 [==============================] - 23s 15ms/step - loss: 14845.8096 - mse: 14845.8096 - val_loss: 10187.0703 - val_mse: 10187.0703\n",
            "Epoch 17/20\n",
            "1517/1517 [==============================] - 23s 15ms/step - loss: 14590.4424 - mse: 14590.4424 - val_loss: 17350.6211 - val_mse: 17350.6211\n",
            "Epoch 18/20\n",
            "1517/1517 [==============================] - 23s 15ms/step - loss: 14287.4502 - mse: 14287.4502 - val_loss: 10083.6816 - val_mse: 10083.6816\n",
            "Epoch 19/20\n",
            "1517/1517 [==============================] - 23s 15ms/step - loss: 14426.4717 - mse: 14426.4717 - val_loss: 21679.1348 - val_mse: 21679.1348\n",
            "Epoch 20/20\n",
            "1517/1517 [==============================] - 23s 15ms/step - loss: 14534.1514 - mse: 14534.1514 - val_loss: 15061.2695 - val_mse: 15061.2695\n"
          ],
          "name": "stdout"
        },
        {
          "output_type": "execute_result",
          "data": {
            "text/plain": [
              "<tensorflow.python.keras.callbacks.History at 0x7fc1bffa7f50>"
            ]
          },
          "metadata": {
            "tags": []
          },
          "execution_count": 34
        }
      ]
    },
    {
      "cell_type": "code",
      "metadata": {
        "colab": {
          "base_uri": "https://localhost:8080/"
        },
        "id": "sJxKZnimRNlG",
        "outputId": "e32036f5-8bce-4239-ade7-0410d3d0b647"
      },
      "source": [
        "best_model.summary()"
      ],
      "execution_count": null,
      "outputs": [
        {
          "output_type": "stream",
          "text": [
            "Model: \"model\"\n",
            "__________________________________________________________________________________________________\n",
            "Layer (type)                    Output Shape         Param #     Connected to                     \n",
            "==================================================================================================\n",
            "input_1 (InputLayer)            [(None, 20, 1)]      0                                            \n",
            "__________________________________________________________________________________________________\n",
            "sequential (Sequential)         (None, 8)            6224        input_1[0][0]                    \n",
            "__________________________________________________________________________________________________\n",
            "input_2 (InputLayer)            [(None, 4)]          0                                            \n",
            "__________________________________________________________________________________________________\n",
            "concatenate (Concatenate)       (None, 12)           0           sequential[0][0]                 \n",
            "                                                                 input_2[0][0]                    \n",
            "__________________________________________________________________________________________________\n",
            "dense (Dense)                   (None, 100)          1300        concatenate[0][0]                \n",
            "__________________________________________________________________________________________________\n",
            "batch_normalization (BatchNorma (None, 100)          400         dense[0][0]                      \n",
            "__________________________________________________________________________________________________\n",
            "leaky_re_lu (LeakyReLU)         (None, 100)          0           batch_normalization[0][0]        \n",
            "__________________________________________________________________________________________________\n",
            "dense_1 (Dense)                 (None, 100)          10100       leaky_re_lu[0][0]                \n",
            "__________________________________________________________________________________________________\n",
            "batch_normalization_1 (BatchNor (None, 100)          400         dense_1[0][0]                    \n",
            "__________________________________________________________________________________________________\n",
            "leaky_re_lu_1 (LeakyReLU)       (None, 100)          0           batch_normalization_1[0][0]      \n",
            "__________________________________________________________________________________________________\n",
            "dense_2 (Dense)                 (None, 100)          10100       leaky_re_lu_1[0][0]              \n",
            "__________________________________________________________________________________________________\n",
            "batch_normalization_2 (BatchNor (None, 100)          400         dense_2[0][0]                    \n",
            "__________________________________________________________________________________________________\n",
            "leaky_re_lu_2 (LeakyReLU)       (None, 100)          0           batch_normalization_2[0][0]      \n",
            "__________________________________________________________________________________________________\n",
            "dense_3 (Dense)                 (None, 1)            101         leaky_re_lu_2[0][0]              \n",
            "==================================================================================================\n",
            "Total params: 29,025\n",
            "Trainable params: 28,425\n",
            "Non-trainable params: 600\n",
            "__________________________________________________________________________________________________\n"
          ],
          "name": "stdout"
        }
      ]
    },
    {
      "cell_type": "code",
      "metadata": {
        "colab": {
          "base_uri": "https://localhost:8080/"
        },
        "id": "yYlM1ZFpOFG9",
        "outputId": "e6027f3e-33b0-4017-f53e-67c53dd28785"
      },
      "source": [
        "y_pred_new=best_model.predict(call_X_test)\n",
        "y_pred_new.shape"
      ],
      "execution_count": null,
      "outputs": [
        {
          "output_type": "execute_result",
          "data": {
            "text/plain": [
              "(545, 1)"
            ]
          },
          "metadata": {
            "tags": []
          },
          "execution_count": 36
        }
      ]
    },
    {
      "cell_type": "code",
      "metadata": {
        "id": "_6YUZ1_xc_p7"
      },
      "source": [
        "y_pred_new"
      ],
      "execution_count": null,
      "outputs": []
    },
    {
      "cell_type": "code",
      "metadata": {
        "id": "_-GfyESYhlKl"
      },
      "source": [
        "y_pred_train=best_model.predict(call_X_train)"
      ],
      "execution_count": null,
      "outputs": []
    },
    {
      "cell_type": "code",
      "metadata": {
        "colab": {
          "base_uri": "https://localhost:8080/"
        },
        "id": "O6co977rhtTD",
        "outputId": "ca921797-fcf6-4a55-f17f-ff3da3ad840c"
      },
      "source": [
        "y_pred_train.shape"
      ],
      "execution_count": null,
      "outputs": [
        {
          "output_type": "execute_result",
          "data": {
            "text/plain": [
              "(53925, 1)"
            ]
          },
          "metadata": {
            "tags": []
          },
          "execution_count": 89
        }
      ]
    },
    {
      "cell_type": "code",
      "metadata": {
        "id": "1sMipA_7dTpi"
      },
      "source": [
        "call_X_train_tm, call_X_test_tm, call_y_train_tm, call_y_test_tm = train_test_split(call_df.drop(['Close'],axis=1),call_df['Close'],test_size=0.01,random_state=42)"
      ],
      "execution_count": null,
      "outputs": []
    },
    {
      "cell_type": "code",
      "metadata": {
        "colab": {
          "base_uri": "https://localhost:8080/",
          "height": 447
        },
        "id": "pN9935q8eHWF",
        "outputId": "f8a47a70-6af8-4026-ec9c-5f35869368bd"
      },
      "source": [
        "call_X_test_tm"
      ],
      "execution_count": null,
      "outputs": [
        {
          "output_type": "execute_result",
          "data": {
            "text/html": [
              "<div>\n",
              "<style scoped>\n",
              "    .dataframe tbody tr th:only-of-type {\n",
              "        vertical-align: middle;\n",
              "    }\n",
              "\n",
              "    .dataframe tbody tr th {\n",
              "        vertical-align: top;\n",
              "    }\n",
              "\n",
              "    .dataframe thead th {\n",
              "        text-align: right;\n",
              "    }\n",
              "</style>\n",
              "<table border=\"1\" class=\"dataframe\">\n",
              "  <thead>\n",
              "    <tr style=\"text-align: right;\">\n",
              "      <th></th>\n",
              "      <th>Strike Price</th>\n",
              "      <th>Expiration</th>\n",
              "      <th>Adj Close</th>\n",
              "      <th>return</th>\n",
              "      <th>volatility</th>\n",
              "      <th>Price</th>\n",
              "      <th>bs_call</th>\n",
              "    </tr>\n",
              "    <tr>\n",
              "      <th>Date</th>\n",
              "      <th></th>\n",
              "      <th></th>\n",
              "      <th></th>\n",
              "      <th></th>\n",
              "      <th></th>\n",
              "      <th></th>\n",
              "      <th></th>\n",
              "    </tr>\n",
              "  </thead>\n",
              "  <tbody>\n",
              "    <tr>\n",
              "      <th>2020-02-10</th>\n",
              "      <td>13000</td>\n",
              "      <td>17</td>\n",
              "      <td>12031.500000</td>\n",
              "      <td>-0.005526</td>\n",
              "      <td>0.146067</td>\n",
              "      <td>6.440</td>\n",
              "      <td>1.204041</td>\n",
              "    </tr>\n",
              "    <tr>\n",
              "      <th>2015-02-20</th>\n",
              "      <td>8700</td>\n",
              "      <td>34</td>\n",
              "      <td>8833.599609</td>\n",
              "      <td>-0.006936</td>\n",
              "      <td>0.122263</td>\n",
              "      <td>7.695</td>\n",
              "      <td>250.668603</td>\n",
              "    </tr>\n",
              "    <tr>\n",
              "      <th>2019-06-18</th>\n",
              "      <td>11300</td>\n",
              "      <td>9</td>\n",
              "      <td>11691.500000</td>\n",
              "      <td>0.001658</td>\n",
              "      <td>0.129754</td>\n",
              "      <td>6.808</td>\n",
              "      <td>414.200121</td>\n",
              "    </tr>\n",
              "    <tr>\n",
              "      <th>2017-01-11</th>\n",
              "      <td>8100</td>\n",
              "      <td>14</td>\n",
              "      <td>8380.650391</td>\n",
              "      <td>0.011106</td>\n",
              "      <td>0.110837</td>\n",
              "      <td>6.391</td>\n",
              "      <td>303.894066</td>\n",
              "    </tr>\n",
              "    <tr>\n",
              "      <th>2020-02-12</th>\n",
              "      <td>12900</td>\n",
              "      <td>15</td>\n",
              "      <td>12201.200195</td>\n",
              "      <td>0.007706</td>\n",
              "      <td>0.151088</td>\n",
              "      <td>6.473</td>\n",
              "      <td>6.496768</td>\n",
              "    </tr>\n",
              "    <tr>\n",
              "      <th>...</th>\n",
              "      <td>...</td>\n",
              "      <td>...</td>\n",
              "      <td>...</td>\n",
              "      <td>...</td>\n",
              "      <td>...</td>\n",
              "      <td>...</td>\n",
              "      <td>...</td>\n",
              "    </tr>\n",
              "    <tr>\n",
              "      <th>2020-03-09</th>\n",
              "      <td>11900</td>\n",
              "      <td>17</td>\n",
              "      <td>10451.450195</td>\n",
              "      <td>-0.048956</td>\n",
              "      <td>0.245978</td>\n",
              "      <td>6.066</td>\n",
              "      <td>1.647730</td>\n",
              "    </tr>\n",
              "    <tr>\n",
              "      <th>2017-04-07</th>\n",
              "      <td>9100</td>\n",
              "      <td>20</td>\n",
              "      <td>9198.299805</td>\n",
              "      <td>-0.006872</td>\n",
              "      <td>0.095214</td>\n",
              "      <td>6.819</td>\n",
              "      <td>163.875642</td>\n",
              "    </tr>\n",
              "    <tr>\n",
              "      <th>2016-03-23</th>\n",
              "      <td>6700</td>\n",
              "      <td>8</td>\n",
              "      <td>7716.500000</td>\n",
              "      <td>0.000207</td>\n",
              "      <td>0.174305</td>\n",
              "      <td>7.507</td>\n",
              "      <td>1027.514914</td>\n",
              "    </tr>\n",
              "    <tr>\n",
              "      <th>2020-01-22</th>\n",
              "      <td>11750</td>\n",
              "      <td>8</td>\n",
              "      <td>12106.900391</td>\n",
              "      <td>-0.005173</td>\n",
              "      <td>0.123099</td>\n",
              "      <td>6.635</td>\n",
              "      <td>377.742284</td>\n",
              "    </tr>\n",
              "    <tr>\n",
              "      <th>2015-03-03</th>\n",
              "      <td>9000</td>\n",
              "      <td>58</td>\n",
              "      <td>8996.250000</td>\n",
              "      <td>0.004410</td>\n",
              "      <td>0.133052</td>\n",
              "      <td>7.754</td>\n",
              "      <td>247.181274</td>\n",
              "    </tr>\n",
              "  </tbody>\n",
              "</table>\n",
              "<p>545 rows × 7 columns</p>\n",
              "</div>"
            ],
            "text/plain": [
              "            Strike Price  Expiration  ...  Price      bs_call\n",
              "Date                                  ...                    \n",
              "2020-02-10         13000          17  ...  6.440     1.204041\n",
              "2015-02-20          8700          34  ...  7.695   250.668603\n",
              "2019-06-18         11300           9  ...  6.808   414.200121\n",
              "2017-01-11          8100          14  ...  6.391   303.894066\n",
              "2020-02-12         12900          15  ...  6.473     6.496768\n",
              "...                  ...         ...  ...    ...          ...\n",
              "2020-03-09         11900          17  ...  6.066     1.647730\n",
              "2017-04-07          9100          20  ...  6.819   163.875642\n",
              "2016-03-23          6700           8  ...  7.507  1027.514914\n",
              "2020-01-22         11750           8  ...  6.635   377.742284\n",
              "2015-03-03          9000          58  ...  7.754   247.181274\n",
              "\n",
              "[545 rows x 7 columns]"
            ]
          },
          "metadata": {
            "tags": []
          },
          "execution_count": 83
        }
      ]
    },
    {
      "cell_type": "code",
      "metadata": {
        "colab": {
          "base_uri": "https://localhost:8080/"
        },
        "id": "7UAYlVGRdz94",
        "outputId": "e3ccc10c-ad21-4d36-fc46-e06ee8d7617e"
      },
      "source": [
        "r2_score(list (call_X_test_tm[\"bs_call\"]),y_pred_new)"
      ],
      "execution_count": null,
      "outputs": [
        {
          "output_type": "execute_result",
          "data": {
            "text/plain": [
              "0.934070188342824"
            ]
          },
          "metadata": {
            "tags": []
          },
          "execution_count": 85
        }
      ]
    },
    {
      "cell_type": "code",
      "metadata": {
        "colab": {
          "base_uri": "https://localhost:8080/"
        },
        "id": "4ZQSvim8SYvx",
        "outputId": "437465c5-7a5b-4ee9-8ce5-3b1faff7642b"
      },
      "source": [
        "x=np.array(call_y_test).reshape(-1,1)\n",
        "y=np.array(y_pred).reshape(-1,1)\n",
        "reg=LinearRegression().fit(x,y_pred_new)\n",
        "mae= mean_absolute_error(x,y_pred_new)\n",
        "print(reg.score(x,y_pred_new),mae)"
      ],
      "execution_count": null,
      "outputs": [
        {
          "output_type": "stream",
          "text": [
            "0.9631888609945654 91.24745231387811\n"
          ],
          "name": "stdout"
        }
      ]
    },
    {
      "cell_type": "code",
      "metadata": {
        "colab": {
          "base_uri": "https://localhost:8080/"
        },
        "id": "zmmS5_4JicBt",
        "outputId": "8238b9f1-d759-4b2b-9334-2bef4207ce73"
      },
      "source": [
        "r2_score(call_y_train,y_pred_train)\n"
      ],
      "execution_count": null,
      "outputs": [
        {
          "output_type": "execute_result",
          "data": {
            "text/plain": [
              "0.9102510619288696"
            ]
          },
          "metadata": {
            "tags": []
          },
          "execution_count": 93
        }
      ]
    },
    {
      "cell_type": "code",
      "metadata": {
        "id": "M2a2hairXE8S"
      },
      "source": [
        "def call_pricing(df):\n",
        "  S=df['Adj Close']\n",
        "  K= df[\"Strike Price\"]\n",
        "  t=df.Expiration/365\n",
        "  r=df[\"Price\"]/100\n",
        "  sigma=df[\"volatility\"]\n",
        "  d1=(np.log(S/K)+(r+(sigma**2)/2)*t)/(sigma*(t**0.5))\n",
        "  d2=d1-sigma*(t**0.5)\n",
        "  Blackscholes_pred=  S*norm.cdf(d1)-K*np.exp(-r * t)*norm.cdf(d2)\n",
        "  return Blackscholes_pred"
      ],
      "execution_count": null,
      "outputs": []
    },
    {
      "cell_type": "code",
      "metadata": {
        "id": "SDjeJXS_YVuc"
      },
      "source": [
        ""
      ],
      "execution_count": null,
      "outputs": []
    }
  ]
}